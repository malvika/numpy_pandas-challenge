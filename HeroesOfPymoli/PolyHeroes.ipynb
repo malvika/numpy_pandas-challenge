{
 "cells": [
  {
   "cell_type": "code",
   "execution_count": 56,
   "metadata": {},
   "outputs": [],
   "source": [
    "#Dependencies\n",
    "import matplotlib.pyplot as plt\n",
    "import numpy as np\n",
    "import pandas as pd"
   ]
  },
  {
   "cell_type": "code",
   "execution_count": 57,
   "metadata": {},
   "outputs": [
    {
     "data": {
      "text/html": [
       "<div>\n",
       "<style scoped>\n",
       "    .dataframe tbody tr th:only-of-type {\n",
       "        vertical-align: middle;\n",
       "    }\n",
       "\n",
       "    .dataframe tbody tr th {\n",
       "        vertical-align: top;\n",
       "    }\n",
       "\n",
       "    .dataframe thead th {\n",
       "        text-align: right;\n",
       "    }\n",
       "</style>\n",
       "<table border=\"1\" class=\"dataframe\">\n",
       "  <thead>\n",
       "    <tr style=\"text-align: right;\">\n",
       "      <th></th>\n",
       "      <th>Age</th>\n",
       "      <th>Gender</th>\n",
       "      <th>Item ID</th>\n",
       "      <th>Item Name</th>\n",
       "      <th>Price</th>\n",
       "      <th>SN</th>\n",
       "    </tr>\n",
       "  </thead>\n",
       "  <tbody>\n",
       "    <tr>\n",
       "      <th>0</th>\n",
       "      <td>38</td>\n",
       "      <td>Male</td>\n",
       "      <td>165</td>\n",
       "      <td>Bone Crushing Silver Skewer</td>\n",
       "      <td>3.37</td>\n",
       "      <td>Aelalis34</td>\n",
       "    </tr>\n",
       "    <tr>\n",
       "      <th>1</th>\n",
       "      <td>21</td>\n",
       "      <td>Male</td>\n",
       "      <td>119</td>\n",
       "      <td>Stormbringer, Dark Blade of Ending Misery</td>\n",
       "      <td>2.32</td>\n",
       "      <td>Eolo46</td>\n",
       "    </tr>\n",
       "    <tr>\n",
       "      <th>2</th>\n",
       "      <td>34</td>\n",
       "      <td>Male</td>\n",
       "      <td>174</td>\n",
       "      <td>Primitive Blade</td>\n",
       "      <td>2.46</td>\n",
       "      <td>Assastnya25</td>\n",
       "    </tr>\n",
       "    <tr>\n",
       "      <th>3</th>\n",
       "      <td>21</td>\n",
       "      <td>Male</td>\n",
       "      <td>92</td>\n",
       "      <td>Final Critic</td>\n",
       "      <td>1.36</td>\n",
       "      <td>Pheusrical25</td>\n",
       "    </tr>\n",
       "    <tr>\n",
       "      <th>4</th>\n",
       "      <td>23</td>\n",
       "      <td>Male</td>\n",
       "      <td>63</td>\n",
       "      <td>Stormfury Mace</td>\n",
       "      <td>1.27</td>\n",
       "      <td>Aela59</td>\n",
       "    </tr>\n",
       "  </tbody>\n",
       "</table>\n",
       "</div>"
      ],
      "text/plain": [
       "   Age Gender  Item ID                                  Item Name  Price  \\\n",
       "0   38   Male      165                Bone Crushing Silver Skewer   3.37   \n",
       "1   21   Male      119  Stormbringer, Dark Blade of Ending Misery   2.32   \n",
       "2   34   Male      174                            Primitive Blade   2.46   \n",
       "3   21   Male       92                               Final Critic   1.36   \n",
       "4   23   Male       63                             Stormfury Mace   1.27   \n",
       "\n",
       "             SN  \n",
       "0     Aelalis34  \n",
       "1        Eolo46  \n",
       "2   Assastnya25  \n",
       "3  Pheusrical25  \n",
       "4        Aela59  "
      ]
     },
     "execution_count": 57,
     "metadata": {},
     "output_type": "execute_result"
    }
   ],
   "source": [
    "#import json into data frame\n",
    "purchase_data_df = pd.read_json(\"purchase_data.json\")\n",
    "purchase_data_df.head()"
   ]
  },
  {
   "cell_type": "code",
   "execution_count": 58,
   "metadata": {},
   "outputs": [
    {
     "data": {
      "text/plain": [
       "573"
      ]
     },
     "execution_count": 58,
     "metadata": {},
     "output_type": "execute_result"
    }
   ],
   "source": [
    "#Player Count: Count the total number of players by grouping the unique SN's\n",
    "players_df = purchase_data_df.groupby(\"SN\")[\"SN\"].nunique()\n",
    "number_of_players = players_df.count() \n",
    "number_of_players"
   ]
  },
  {
   "cell_type": "code",
   "execution_count": 59,
   "metadata": {},
   "outputs": [
    {
     "data": {
      "text/html": [
       "<div>\n",
       "<style scoped>\n",
       "    .dataframe tbody tr th:only-of-type {\n",
       "        vertical-align: middle;\n",
       "    }\n",
       "\n",
       "    .dataframe tbody tr th {\n",
       "        vertical-align: top;\n",
       "    }\n",
       "\n",
       "    .dataframe thead th {\n",
       "        text-align: right;\n",
       "    }\n",
       "</style>\n",
       "<table border=\"1\" class=\"dataframe\">\n",
       "  <thead>\n",
       "    <tr style=\"text-align: right;\">\n",
       "      <th></th>\n",
       "      <th>Number of Players</th>\n",
       "    </tr>\n",
       "  </thead>\n",
       "  <tbody>\n",
       "    <tr>\n",
       "      <th>0</th>\n",
       "      <td>573</td>\n",
       "    </tr>\n",
       "  </tbody>\n",
       "</table>\n",
       "</div>"
      ],
      "text/plain": [
       "   Number of Players\n",
       "0                573"
      ]
     },
     "execution_count": 59,
     "metadata": {},
     "output_type": "execute_result"
    }
   ],
   "source": [
    "#display number of players in dataframe \n",
    "players_df = pd.DataFrame([{ \"Number of Players\": number_of_players}])\n",
    "players_df"
   ]
  },
  {
   "cell_type": "code",
   "execution_count": 60,
   "metadata": {},
   "outputs": [],
   "source": [
    "# Purchasing Analysis (Total)\n",
    "\n",
    "# Number of Unique Items\n",
    "# Average Purchase Price\n",
    "# Total Number of Purchases\n",
    "# Total Revenue"
   ]
  },
  {
   "cell_type": "code",
   "execution_count": 61,
   "metadata": {},
   "outputs": [
    {
     "data": {
      "text/plain": [
       "183"
      ]
     },
     "execution_count": 61,
     "metadata": {},
     "output_type": "execute_result"
    }
   ],
   "source": [
    "#Number of Unique Items\n",
    "dropping_duplicates = purchase_data_df.drop_duplicates(['Item ID'], keep = 'last')\n",
    "\n",
    "#Counts items by unique ID\n",
    "total_unique = len(dropping_duplicates)\n",
    "total_unique\n"
   ]
  },
  {
   "cell_type": "code",
   "execution_count": 62,
   "metadata": {},
   "outputs": [
    {
     "data": {
      "text/plain": [
       "2.93"
      ]
     },
     "execution_count": 62,
     "metadata": {},
     "output_type": "execute_result"
    }
   ],
   "source": [
    "#Average Purchase Price: mean of all purchases\n",
    "average_price_df = purchase_data_df [\"Price\"].mean()\n",
    "round(average_price_df, 2)"
   ]
  },
  {
   "cell_type": "code",
   "execution_count": 63,
   "metadata": {},
   "outputs": [
    {
     "data": {
      "text/plain": [
       "780"
      ]
     },
     "execution_count": 63,
     "metadata": {},
     "output_type": "execute_result"
    }
   ],
   "source": [
    "#Total Number of Purchases: count of all purchases\n",
    "total_purchases_df = purchase_data_df[\"Price\"].count()\n",
    "total_purchases_df"
   ]
  },
  {
   "cell_type": "code",
   "execution_count": 64,
   "metadata": {},
   "outputs": [
    {
     "data": {
      "text/plain": [
       "2286.33"
      ]
     },
     "execution_count": 64,
     "metadata": {},
     "output_type": "execute_result"
    }
   ],
   "source": [
    "#Total Revenue: sum of all purchases\n",
    "total_revenue_df = purchase_data_df[\"Price\"].sum()\n",
    "round(total_revenue_df, 2)"
   ]
  },
  {
   "cell_type": "code",
   "execution_count": 65,
   "metadata": {},
   "outputs": [
    {
     "data": {
      "text/html": [
       "<div>\n",
       "<style scoped>\n",
       "    .dataframe tbody tr th:only-of-type {\n",
       "        vertical-align: middle;\n",
       "    }\n",
       "\n",
       "    .dataframe tbody tr th {\n",
       "        vertical-align: top;\n",
       "    }\n",
       "\n",
       "    .dataframe thead th {\n",
       "        text-align: right;\n",
       "    }\n",
       "</style>\n",
       "<table border=\"1\" class=\"dataframe\">\n",
       "  <thead>\n",
       "    <tr style=\"text-align: right;\">\n",
       "      <th></th>\n",
       "      <th>Average Purchase Price</th>\n",
       "      <th>Number of Unique Items</th>\n",
       "      <th>Total Number of Purchases</th>\n",
       "      <th>Total Revenue</th>\n",
       "    </tr>\n",
       "  </thead>\n",
       "  <tbody>\n",
       "    <tr>\n",
       "      <th>0</th>\n",
       "      <td>2.93</td>\n",
       "      <td>183</td>\n",
       "      <td>780</td>\n",
       "      <td>2286.33</td>\n",
       "    </tr>\n",
       "  </tbody>\n",
       "</table>\n",
       "</div>"
      ],
      "text/plain": [
       "   Average Purchase Price  Number of Unique Items  Total Number of Purchases  \\\n",
       "0                    2.93                     183                        780   \n",
       "\n",
       "   Total Revenue  \n",
       "0        2286.33  "
      ]
     },
     "execution_count": 65,
     "metadata": {},
     "output_type": "execute_result"
    }
   ],
   "source": [
    "#Display in data frame\n",
    "purchasing_analysis_df = pd.DataFrame({ \"Number of Unique Items\":[total_unique],\n",
    "                                        \"Average Purchase Price\":[round(average_price_df, 2)],\n",
    "                                        \"Total Number of Purchases\":[total_purchases_df],\n",
    "                                        \"Total Revenue\":[total_revenue_df]})\n",
    "purchasing_analysis_df"
   ]
  },
  {
   "cell_type": "code",
   "execution_count": 66,
   "metadata": {},
   "outputs": [],
   "source": [
    "# Gender Demographics\n",
    "\n",
    "# Percentage and Count of Male Players\n",
    "# Percentage and Count of Female Players\n",
    "# Percentage and Count of Other / Non-Disclosed"
   ]
  },
  {
   "cell_type": "code",
   "execution_count": 67,
   "metadata": {},
   "outputs": [
    {
     "data": {
      "text/html": [
       "<div>\n",
       "<style scoped>\n",
       "    .dataframe tbody tr th:only-of-type {\n",
       "        vertical-align: middle;\n",
       "    }\n",
       "\n",
       "    .dataframe tbody tr th {\n",
       "        vertical-align: top;\n",
       "    }\n",
       "\n",
       "    .dataframe thead th {\n",
       "        text-align: right;\n",
       "    }\n",
       "</style>\n",
       "<table border=\"1\" class=\"dataframe\">\n",
       "  <thead>\n",
       "    <tr style=\"text-align: right;\">\n",
       "      <th></th>\n",
       "      <th>index</th>\n",
       "      <th>Gender</th>\n",
       "    </tr>\n",
       "  </thead>\n",
       "  <tbody>\n",
       "    <tr>\n",
       "      <th>0</th>\n",
       "      <td>Male</td>\n",
       "      <td>465</td>\n",
       "    </tr>\n",
       "    <tr>\n",
       "      <th>1</th>\n",
       "      <td>Female</td>\n",
       "      <td>100</td>\n",
       "    </tr>\n",
       "    <tr>\n",
       "      <th>2</th>\n",
       "      <td>Other / Non-Disclosed</td>\n",
       "      <td>8</td>\n",
       "    </tr>\n",
       "  </tbody>\n",
       "</table>\n",
       "</div>"
      ],
      "text/plain": [
       "                   index  Gender\n",
       "0                   Male     465\n",
       "1                 Female     100\n",
       "2  Other / Non-Disclosed       8"
      ]
     },
     "execution_count": 67,
     "metadata": {},
     "output_type": "execute_result"
    }
   ],
   "source": [
    "#Drop duplicate players names \n",
    "no_duplicate_players = purchase_data_df.drop_duplicates(['SN'], keep ='last')\n",
    "\n",
    "#Overview of gender values \n",
    "gender_counts = no_duplicate_players['Gender'].value_counts().reset_index()\n",
    "\n",
    "gender_counts"
   ]
  },
  {
   "cell_type": "code",
   "execution_count": 68,
   "metadata": {},
   "outputs": [
    {
     "data": {
      "text/plain": [
       "81.15"
      ]
     },
     "execution_count": 68,
     "metadata": {},
     "output_type": "execute_result"
    }
   ],
   "source": [
    "#Count of Male Players\n",
    "male_df = purchase_data_df.loc[purchase_data_df[\"Gender\"]==\"Male\",:]\n",
    "male_count = len(male_df[\"SN\"].unique())\n",
    "\n",
    "male_count\n",
    "\n",
    "# Percentage of Male players\n",
    "male_data_df = purchase_data_df.loc[purchase_data_df[\"Gender\"] == \"Male\"]\n",
    "percent_male = round((len(male_data_df)/len(purchase_data_df)) * 100, 2)\n",
    "\n",
    "percent_male"
   ]
  },
  {
   "cell_type": "code",
   "execution_count": 69,
   "metadata": {},
   "outputs": [
    {
     "data": {
      "text/plain": [
       "17.44"
      ]
     },
     "execution_count": 69,
     "metadata": {},
     "output_type": "execute_result"
    }
   ],
   "source": [
    "#Count of Female Players\n",
    "female_df = purchase_data_df.loc[purchase_data_df[\"Gender\"]==\"Female\",:]\n",
    "female_count = len(female_df[\"SN\"].unique())\n",
    "\n",
    "female_count\n",
    "\n",
    "# Percentage of Female Players\n",
    "female_data_df = purchase_data_df.loc[purchase_data_df[\"Gender\"] == \"Female\"]\n",
    "percent_female = round((len(female_data_df)/len(purchase_data_df)) * 100, 2)\n",
    "\n",
    "percent_female"
   ]
  },
  {
   "cell_type": "code",
   "execution_count": 70,
   "metadata": {},
   "outputs": [
    {
     "data": {
      "text/plain": [
       "1.41"
      ]
     },
     "execution_count": 70,
     "metadata": {},
     "output_type": "execute_result"
    }
   ],
   "source": [
    "#Count of Other / Non-Disclosed\n",
    "\n",
    "others_data_df = purchase_data_df.loc[purchase_data_df[\"Gender\"]==\"Other / Non-Disclosed\",:]\n",
    "others_count = len(others_data_df[\"SN\"].unique())\n",
    "\n",
    "others_count\n",
    "\n",
    "# Percentage of Other / Non-Disclosed\n",
    "others_data_df = purchase_data_df.loc[purchase_data_df[\"Gender\"] == \"Other / Non-Disclosed\"]\n",
    "percent_others = round((len(others_data_df)/len(purchase_data_df)) * 100, 2)\n",
    "\n",
    "percent_others"
   ]
  },
  {
   "cell_type": "code",
   "execution_count": 71,
   "metadata": {},
   "outputs": [
    {
     "data": {
      "text/html": [
       "<div>\n",
       "<style scoped>\n",
       "    .dataframe tbody tr th:only-of-type {\n",
       "        vertical-align: middle;\n",
       "    }\n",
       "\n",
       "    .dataframe tbody tr th {\n",
       "        vertical-align: top;\n",
       "    }\n",
       "\n",
       "    .dataframe thead th {\n",
       "        text-align: right;\n",
       "    }\n",
       "</style>\n",
       "<table border=\"1\" class=\"dataframe\">\n",
       "  <thead>\n",
       "    <tr style=\"text-align: right;\">\n",
       "      <th></th>\n",
       "      <th>Percentage Of Players</th>\n",
       "      <th>Total Count</th>\n",
       "    </tr>\n",
       "    <tr>\n",
       "      <th>Gender</th>\n",
       "      <th></th>\n",
       "      <th></th>\n",
       "    </tr>\n",
       "  </thead>\n",
       "  <tbody>\n",
       "    <tr>\n",
       "      <th>Male</th>\n",
       "      <td>81.15</td>\n",
       "      <td>465</td>\n",
       "    </tr>\n",
       "    <tr>\n",
       "      <th>Female</th>\n",
       "      <td>17.44</td>\n",
       "      <td>100</td>\n",
       "    </tr>\n",
       "    <tr>\n",
       "      <th>Other/Non-Disclosed</th>\n",
       "      <td>1.41</td>\n",
       "      <td>8</td>\n",
       "    </tr>\n",
       "  </tbody>\n",
       "</table>\n",
       "</div>"
      ],
      "text/plain": [
       "                     Percentage Of Players  Total Count\n",
       "Gender                                                 \n",
       "Male                                 81.15          465\n",
       "Female                               17.44          100\n",
       "Other/Non-Disclosed                   1.41            8"
      ]
     },
     "execution_count": 71,
     "metadata": {},
     "output_type": "execute_result"
    }
   ],
   "source": [
    "#Creating a total gender dataframe of counts and percentages\n",
    "gender_demo_dict = {\"Percentage Of Players\":[percent_male, percent_female, percent_others],\n",
    "                    \"Gender\":[\"Male\",\"Female\",\"Other/Non-Disclosed\"],\"Total Count\":[male_count, female_count, others_count]}\n",
    "gender_demo_df = pd.DataFrame(gender_demo_dict)\n",
    "gender_demo_df = gender_demo_df.set_index(\"Gender\")\n",
    "gender_demo_df"
   ]
  },
  {
   "cell_type": "code",
   "execution_count": 72,
   "metadata": {},
   "outputs": [],
   "source": [
    "# Purchasing Analysis (Gender)\n",
    "\n",
    "# The below each broken by gender\n",
    "# Purchase Count\n",
    "# Average Purchase Price\n",
    "# Total Purchase Value\n",
    "# Normalized Totals"
   ]
  },
  {
   "cell_type": "code",
   "execution_count": 73,
   "metadata": {},
   "outputs": [],
   "source": [
    "# Purchase Count of Males, Females, and Others/ Non-disclosed\n",
    "male_purchase = len (male_data_df)\n",
    "female_purchase = len (female_data_df)\n",
    "others_purchase = len (others_data_df)"
   ]
  },
  {
   "cell_type": "code",
   "execution_count": 74,
   "metadata": {},
   "outputs": [],
   "source": [
    "# Average Purchase Price of Males, Females, and Others/ Non-disclosed\n",
    "average_price_male =round((male_data_df[\"Price\"].sum())/len(male_data_df[\"Price\"]),2)\n",
    "average_price_female =round((female_data_df[\"Price\"].sum())/len(female_data_df[\"Price\"]),2)\n",
    "average_price_others = round((others_data_df[\"Price\"].sum())/len(others_data_df[\"Price\"]),2)"
   ]
  },
  {
   "cell_type": "code",
   "execution_count": 75,
   "metadata": {},
   "outputs": [],
   "source": [
    "# Total Purchase Value of Males, Females, and Others/ Non-disclosed\n",
    "total_value_male = round(male_data_df[\"Price\"].sum(),2)\n",
    "total_value_female = round(female_data_df[\"Price\"].sum(),2)\n",
    "total_value_others = round(others_data_df[\"Price\"].sum(),2)"
   ]
  },
  {
   "cell_type": "code",
   "execution_count": 76,
   "metadata": {},
   "outputs": [],
   "source": [
    "# Normalized Totals of Males, Females, and Others/ Non-disclosed\n",
    "normalized_male = round((total_value_male/male_count), 2)\n",
    "normalized_female = round((total_value_female/female_count), 2)\n",
    "normalized_others = round((total_value_others/others_count), 2)"
   ]
  },
  {
   "cell_type": "code",
   "execution_count": 77,
   "metadata": {},
   "outputs": [
    {
     "data": {
      "text/html": [
       "<div>\n",
       "<style scoped>\n",
       "    .dataframe tbody tr th:only-of-type {\n",
       "        vertical-align: middle;\n",
       "    }\n",
       "\n",
       "    .dataframe tbody tr th {\n",
       "        vertical-align: top;\n",
       "    }\n",
       "\n",
       "    .dataframe thead th {\n",
       "        text-align: right;\n",
       "    }\n",
       "</style>\n",
       "<table border=\"1\" class=\"dataframe\">\n",
       "  <thead>\n",
       "    <tr style=\"text-align: right;\">\n",
       "      <th></th>\n",
       "      <th>Average Purchase Price</th>\n",
       "      <th>Normalised Totals</th>\n",
       "      <th>Purchase Count</th>\n",
       "      <th>Total Purchase Value</th>\n",
       "    </tr>\n",
       "    <tr>\n",
       "      <th>Gender</th>\n",
       "      <th></th>\n",
       "      <th></th>\n",
       "      <th></th>\n",
       "      <th></th>\n",
       "    </tr>\n",
       "  </thead>\n",
       "  <tbody>\n",
       "    <tr>\n",
       "      <th>Male</th>\n",
       "      <td>2.95</td>\n",
       "      <td>4.02</td>\n",
       "      <td>633</td>\n",
       "      <td>1867.68</td>\n",
       "    </tr>\n",
       "    <tr>\n",
       "      <th>Female</th>\n",
       "      <td>2.82</td>\n",
       "      <td>3.83</td>\n",
       "      <td>136</td>\n",
       "      <td>382.91</td>\n",
       "    </tr>\n",
       "    <tr>\n",
       "      <th>Other/Non-Disclosed</th>\n",
       "      <td>3.25</td>\n",
       "      <td>4.47</td>\n",
       "      <td>11</td>\n",
       "      <td>35.74</td>\n",
       "    </tr>\n",
       "  </tbody>\n",
       "</table>\n",
       "</div>"
      ],
      "text/plain": [
       "                     Average Purchase Price  Normalised Totals  \\\n",
       "Gender                                                           \n",
       "Male                                   2.95               4.02   \n",
       "Female                                 2.82               3.83   \n",
       "Other/Non-Disclosed                    3.25               4.47   \n",
       "\n",
       "                     Purchase Count  Total Purchase Value  \n",
       "Gender                                                     \n",
       "Male                            633               1867.68  \n",
       "Female                          136                382.91  \n",
       "Other/Non-Disclosed              11                 35.74  "
      ]
     },
     "execution_count": 77,
     "metadata": {},
     "output_type": "execute_result"
    }
   ],
   "source": [
    "#Creating a total purchasing analysis (gender) dataframe\n",
    "\n",
    "purchasing_gender = {\"Purchase Count\":[male_purchase,female_purchase,others_purchase],\n",
    "                     \"Gender\":[\"Male\",\"Female\",\"Other/Non-Disclosed\"],\n",
    "                     \"Average Purchase Price\":[average_price_male,average_price_female,average_price_others],\n",
    "                     \"Total Purchase Value\":[total_value_male,total_value_female,total_value_others ],\n",
    "                     \"Normalised Totals\":[normalized_male,normalized_female,normalized_others ]}\n",
    "purchasing_gender_df = pd.DataFrame(purchasing_gender)\n",
    "purchasing_gender_df = purchasing_gender_df.set_index(\"Gender\")\n",
    "purchasing_gender_df"
   ]
  },
  {
   "cell_type": "code",
   "execution_count": 78,
   "metadata": {},
   "outputs": [],
   "source": [
    "# Age Demographics\n",
    "\n",
    "# The below each broken into bins of 4 years (i.e. <10, 10-14, 15-19, etc.)\n",
    "# Purchase Count\n",
    "# Average Purchase Price\n",
    "# Total Purchase Value\n",
    "# Normalized Totals"
   ]
  },
  {
   "cell_type": "code",
   "execution_count": 79,
   "metadata": {},
   "outputs": [],
   "source": [
    "# Find max and min of age column for bins to be created\n",
    "max_age = purchase_data_df[\"Age\"].max()\n",
    "max_age\n",
    "\n",
    "min_age = purchase_data_df[\"Age\"].min()\n",
    "min_age\n",
    "\n",
    "#Create the bins\n",
    "age_bins = [0, 10, 14, 19, 24, 29, 34, 39, 50]\n",
    "age_labels = [\"<10\",\"10-14\",\"15-19\",\"20-24\",\"25-29\",\"30-34\",\"35-39\",\"40+\"]\n",
    "purchase_data_df[\"Ages\"] = pd.cut(purchase_data_df[\"Age\"], age_bins, labels= age_labels)"
   ]
  },
  {
   "cell_type": "code",
   "execution_count": 80,
   "metadata": {},
   "outputs": [],
   "source": [
    "# Count of players and percentage of players in each of the 8 bins created\n",
    "bin1_df = purchase_data_df.loc[purchase_data_df[\"Ages\"]==\"<10\",:]\n",
    "player_count_bin1 = len(bin1_df[\"SN\"].unique())\n",
    "percent_bin1 = (player_count_bin1/number_of_players)* 100\n",
    "\n",
    "bin2_df = purchase_data_df.loc[purchase_data_df[\"Ages\"]==\"10-14\",:]\n",
    "player_count_bin2 = len(bin2_df[\"SN\"].unique())\n",
    "percent_bin2 = (player_count_bin2/number_of_players)* 100\n",
    "\n",
    "bin3_df = purchase_data_df.loc[purchase_data_df[\"Ages\"]==\"15-19\",:]\n",
    "player_count_bin3 = len(bin3_df[\"SN\"].unique())\n",
    "percent_bin3 = (player_count_bin3/number_of_players)* 100\n",
    "\n",
    "bin4_df = purchase_data_df.loc[purchase_data_df[\"Ages\"]==\"20-24\",:]\n",
    "player_count_bin4 = len(bin4_df[\"SN\"].unique())\n",
    "percent_bin4 = (player_count_bin4/number_of_players)* 100\n",
    "\n",
    "bin5_df = purchase_data_df.loc[purchase_data_df[\"Ages\"]==\"25-29\",:]\n",
    "player_count_bin5 = len(bin5_df[\"SN\"].unique())\n",
    "percent_bin5 = (player_count_bin5/number_of_players)* 100\n",
    "\n",
    "bin6_df = purchase_data_df.loc[purchase_data_df[\"Ages\"]==\"30-34\",:]\n",
    "player_count_bin6 = len(bin6_df[\"SN\"].unique())\n",
    "percent_bin6 = (player_count_bin6/number_of_players)* 100\n",
    "\n",
    "bin7_df = purchase_data_df.loc[purchase_data_df[\"Ages\"]==\"35-39\",:]\n",
    "player_count_bin7 = len(bin7_df[\"SN\"].unique())\n",
    "percent_bin7 = (player_count_bin7/number_of_players)* 100\n",
    "\n",
    "bin8_df = purchase_data_df.loc[purchase_data_df[\"Ages\"]==\"40+\",:]\n",
    "player_count_bin8 = len(bin8_df[\"SN\"].unique())\n",
    "percent_bin8 = (player_count_bin8/number_of_players)* 100\n",
    "\n",
    "\n",
    "player_count_bins=[player_count_bin1,\n",
    "                   player_count_bin2,\n",
    "                   player_count_bin3,\n",
    "                   player_count_bin4,\n",
    "                   player_count_bin5,\n",
    "                   player_count_bin6,\n",
    "                   player_count_bin7,\n",
    "                   player_count_bin8]\n",
    "\n",
    "percent_bins = [percent_bin1,\n",
    "                percent_bin2,\n",
    "                percent_bin3,\n",
    "                percent_bin4,\n",
    "                percent_bin5,\n",
    "                percent_bin6,\n",
    "                percent_bin7,\n",
    "                percent_bin8]\n",
    "\n",
    "percent_bins = [round (x,2) for x in percent_bins]"
   ]
  },
  {
   "cell_type": "code",
   "execution_count": 81,
   "metadata": {},
   "outputs": [
    {
     "data": {
      "text/html": [
       "<div>\n",
       "<style scoped>\n",
       "    .dataframe tbody tr th:only-of-type {\n",
       "        vertical-align: middle;\n",
       "    }\n",
       "\n",
       "    .dataframe tbody tr th {\n",
       "        vertical-align: top;\n",
       "    }\n",
       "\n",
       "    .dataframe thead th {\n",
       "        text-align: right;\n",
       "    }\n",
       "</style>\n",
       "<table border=\"1\" class=\"dataframe\">\n",
       "  <thead>\n",
       "    <tr style=\"text-align: right;\">\n",
       "      <th></th>\n",
       "      <th>Percentage Of Players</th>\n",
       "      <th>Total Player Count</th>\n",
       "    </tr>\n",
       "    <tr>\n",
       "      <th>Ages</th>\n",
       "      <th></th>\n",
       "      <th></th>\n",
       "    </tr>\n",
       "  </thead>\n",
       "  <tbody>\n",
       "    <tr>\n",
       "      <th>&lt;10</th>\n",
       "      <td>3.84</td>\n",
       "      <td>22</td>\n",
       "    </tr>\n",
       "    <tr>\n",
       "      <th>10-14</th>\n",
       "      <td>3.49</td>\n",
       "      <td>20</td>\n",
       "    </tr>\n",
       "    <tr>\n",
       "      <th>15-19</th>\n",
       "      <td>17.45</td>\n",
       "      <td>100</td>\n",
       "    </tr>\n",
       "    <tr>\n",
       "      <th>20-24</th>\n",
       "      <td>45.20</td>\n",
       "      <td>259</td>\n",
       "    </tr>\n",
       "    <tr>\n",
       "      <th>25-29</th>\n",
       "      <td>15.18</td>\n",
       "      <td>87</td>\n",
       "    </tr>\n",
       "    <tr>\n",
       "      <th>30-34</th>\n",
       "      <td>8.20</td>\n",
       "      <td>47</td>\n",
       "    </tr>\n",
       "    <tr>\n",
       "      <th>35-39</th>\n",
       "      <td>4.71</td>\n",
       "      <td>27</td>\n",
       "    </tr>\n",
       "    <tr>\n",
       "      <th>40+</th>\n",
       "      <td>1.92</td>\n",
       "      <td>11</td>\n",
       "    </tr>\n",
       "  </tbody>\n",
       "</table>\n",
       "</div>"
      ],
      "text/plain": [
       "       Percentage Of Players  Total Player Count\n",
       "Ages                                            \n",
       "<10                     3.84                  22\n",
       "10-14                   3.49                  20\n",
       "15-19                  17.45                 100\n",
       "20-24                  45.20                 259\n",
       "25-29                  15.18                  87\n",
       "30-34                   8.20                  47\n",
       "35-39                   4.71                  27\n",
       "40+                     1.92                  11"
      ]
     },
     "execution_count": 81,
     "metadata": {},
     "output_type": "execute_result"
    }
   ],
   "source": [
    "# Create a dictionary for age demographics\n",
    "age_demographic_dict = {\"Ages\": age_labels,\n",
    "                        \"Total Player Count\": player_count_bins,\n",
    "                        \"Percentage Of Players\": percent_bins}\n",
    "\n",
    "# Create a dataframe for Age Demographics\n",
    "age_demographic_df = pd.DataFrame(age_demographic_dict)\n",
    "age_demographic_df = age_demographic_df.set_index(\"Ages\")\n",
    "age_demographic_df"
   ]
  },
  {
   "cell_type": "code",
   "execution_count": 82,
   "metadata": {},
   "outputs": [],
   "source": [
    "# Top Spenders: Identify the the top 5 spenders in the game by total purchase value, then list (in a table)"
   ]
  },
  {
   "cell_type": "code",
   "execution_count": 83,
   "metadata": {},
   "outputs": [],
   "source": [
    "# SN grouping for unique spenders\n",
    "SN_spenders = purchase_data_df.groupby(purchase_data_df[\"SN\"])\n",
    "spenders_list = SN_spenders[\"SN\"].unique()"
   ]
  },
  {
   "cell_type": "code",
   "execution_count": 84,
   "metadata": {},
   "outputs": [
    {
     "data": {
      "text/plain": [
       "SN\n",
       "Adairialis76       1\n",
       "Aduephos78         3\n",
       "Aeduera68          3\n",
       "Aela49             1\n",
       "Aela59             1\n",
       "Aelalis34          2\n",
       "Aelin32            1\n",
       "Aeliriam77         2\n",
       "Aeliriarin93       1\n",
       "Aeliru63           2\n",
       "Aellyria80         1\n",
       "Aellyrialis39      1\n",
       "Aellysup38         1\n",
       "Aelollo59          1\n",
       "Aenarap34          1\n",
       "Aenasu69           1\n",
       "Aeral43            1\n",
       "Aeral85            1\n",
       "Aeral97            1\n",
       "Aeri84             2\n",
       "Aerillorin70       1\n",
       "Aerithllora36      3\n",
       "Aerithnucal56      2\n",
       "Aerithnuphos61     1\n",
       "Aerithriaphos45    1\n",
       "Aesty51            1\n",
       "Aesur96            1\n",
       "Aethe80            1\n",
       "Aethedru70         1\n",
       "Aidain51           2\n",
       "                  ..\n",
       "Undjaskla97        1\n",
       "Undjasksya56       1\n",
       "Undotesta33        1\n",
       "Wailin72           1\n",
       "Whaestysu86        1\n",
       "Yadacal26          1\n",
       "Yadaisuir65        2\n",
       "Yadanun74          3\n",
       "Yalaeria91         1\n",
       "Yaliru88           1\n",
       "Yalo71             1\n",
       "Yalostiphos68      1\n",
       "Yaralnura48        2\n",
       "Yararmol43         1\n",
       "Yarirarn35         1\n",
       "Yaristi64          1\n",
       "Yarithllodeu72     1\n",
       "Yarithphos28       1\n",
       "Yarithsurgue62     2\n",
       "Yarmol79           1\n",
       "Yarolwen77         2\n",
       "Yasriphos60        3\n",
       "Yasrisu92          1\n",
       "Yasur35            1\n",
       "Yasur85            1\n",
       "Yasurra52          1\n",
       "Yathecal72         2\n",
       "Yathecal82         1\n",
       "Zhisrisu83         2\n",
       "Zontibe81          1\n",
       "Name: Age, Length: 573, dtype: int64"
      ]
     },
     "execution_count": 84,
     "metadata": {},
     "output_type": "execute_result"
    }
   ],
   "source": [
    "# Purchase Count\n",
    "num_purchase_by_SN = SN_spenders[\"Age\"].count()\n",
    "num_purchase_by_SN"
   ]
  },
  {
   "cell_type": "code",
   "execution_count": 85,
   "metadata": {},
   "outputs": [
    {
     "data": {
      "text/plain": [
       "SN\n",
       "Adairialis76       2.46\n",
       "Aduephos78         2.23\n",
       "Aeduera68          1.93\n",
       "Aela49             2.46\n",
       "Aela59             1.27\n",
       "Aelalis34          2.53\n",
       "Aelin32            3.14\n",
       "Aeliriam77         3.36\n",
       "Aeliriarin93       2.04\n",
       "Aeliru63           4.49\n",
       "Aellyria80         4.32\n",
       "Aellyrialis39      3.15\n",
       "Aellysup38         3.61\n",
       "Aelollo59          1.55\n",
       "Aenarap34          1.65\n",
       "Aenasu69           3.27\n",
       "Aeral43            2.72\n",
       "Aeral85            4.25\n",
       "Aeral97            2.35\n",
       "Aeri84             3.30\n",
       "Aerillorin70       1.88\n",
       "Aerithllora36      3.48\n",
       "Aerithnucal56      1.59\n",
       "Aerithnuphos61     1.69\n",
       "Aerithriaphos45    2.38\n",
       "Aesty51            1.82\n",
       "Aesur96            4.66\n",
       "Aethe80            2.32\n",
       "Aethedru70         2.97\n",
       "Aidain51           3.42\n",
       "                   ... \n",
       "Undjaskla97        4.57\n",
       "Undjasksya56       4.53\n",
       "Undotesta33        3.90\n",
       "Wailin72           2.04\n",
       "Whaestysu86        4.08\n",
       "Yadacal26          1.93\n",
       "Yadaisuir65        4.28\n",
       "Yadanun74          3.03\n",
       "Yalaeria91         1.88\n",
       "Yaliru88           3.71\n",
       "Yalo71             2.41\n",
       "Yalostiphos68      2.37\n",
       "Yaralnura48        2.10\n",
       "Yararmol43         1.55\n",
       "Yarirarn35         2.88\n",
       "Yaristi64          1.24\n",
       "Yarithllodeu72     2.19\n",
       "Yarithphos28       2.35\n",
       "Yarithsurgue62     2.41\n",
       "Yarmol79           2.91\n",
       "Yarolwen77         3.49\n",
       "Yasriphos60        3.47\n",
       "Yasrisu92          2.60\n",
       "Yasur35            2.78\n",
       "Yasur85            2.04\n",
       "Yasurra52          3.14\n",
       "Yathecal72         3.88\n",
       "Yathecal82         2.41\n",
       "Zhisrisu83         1.23\n",
       "Zontibe81          3.71\n",
       "Name: Price, Length: 573, dtype: float64"
      ]
     },
     "execution_count": 85,
     "metadata": {},
     "output_type": "execute_result"
    }
   ],
   "source": [
    "# Average Purchase Price\n",
    "avg_purchase_by_SN = round(SN_spenders[\"Price\"].mean(),2)\n",
    "avg_purchase_by_SN "
   ]
  },
  {
   "cell_type": "code",
   "execution_count": 86,
   "metadata": {},
   "outputs": [
    {
     "data": {
      "text/plain": [
       "SN\n",
       "Adairialis76        2.46\n",
       "Aduephos78          6.70\n",
       "Aeduera68           5.80\n",
       "Aela49              2.46\n",
       "Aela59              1.27\n",
       "Aelalis34           5.06\n",
       "Aelin32             3.14\n",
       "Aeliriam77          6.72\n",
       "Aeliriarin93        2.04\n",
       "Aeliru63            8.98\n",
       "Aellyria80          4.32\n",
       "Aellyrialis39       3.15\n",
       "Aellysup38          3.61\n",
       "Aelollo59           1.55\n",
       "Aenarap34           1.65\n",
       "Aenasu69            3.27\n",
       "Aeral43             2.72\n",
       "Aeral85             4.25\n",
       "Aeral97             2.35\n",
       "Aeri84              6.60\n",
       "Aerillorin70        1.88\n",
       "Aerithllora36      10.45\n",
       "Aerithnucal56       3.18\n",
       "Aerithnuphos61      1.69\n",
       "Aerithriaphos45     2.38\n",
       "Aesty51             1.82\n",
       "Aesur96             4.66\n",
       "Aethe80             2.32\n",
       "Aethedru70          2.97\n",
       "Aidain51            6.84\n",
       "                   ...  \n",
       "Undjaskla97         4.57\n",
       "Undjasksya56        4.53\n",
       "Undotesta33         3.90\n",
       "Wailin72            2.04\n",
       "Whaestysu86         4.08\n",
       "Yadacal26           1.93\n",
       "Yadaisuir65         8.56\n",
       "Yadanun74           9.09\n",
       "Yalaeria91          1.88\n",
       "Yaliru88            3.71\n",
       "Yalo71              2.41\n",
       "Yalostiphos68       2.37\n",
       "Yaralnura48         4.19\n",
       "Yararmol43          1.55\n",
       "Yarirarn35          2.88\n",
       "Yaristi64           1.24\n",
       "Yarithllodeu72      2.19\n",
       "Yarithphos28        2.35\n",
       "Yarithsurgue62      4.81\n",
       "Yarmol79            2.91\n",
       "Yarolwen77          6.98\n",
       "Yasriphos60        10.40\n",
       "Yasrisu92           2.60\n",
       "Yasur35             2.78\n",
       "Yasur85             2.04\n",
       "Yasurra52           3.14\n",
       "Yathecal72          7.77\n",
       "Yathecal82          2.41\n",
       "Zhisrisu83          2.46\n",
       "Zontibe81           3.71\n",
       "Name: Price, Length: 573, dtype: float64"
      ]
     },
     "execution_count": 86,
     "metadata": {},
     "output_type": "execute_result"
    }
   ],
   "source": [
    "# Total Purchase Value\n",
    "total_purchase_by_SN = SN_spenders[\"Price\"].sum()\n",
    "total_purchase_by_SN"
   ]
  },
  {
   "cell_type": "code",
   "execution_count": 87,
   "metadata": {},
   "outputs": [
    {
     "data": {
      "text/html": [
       "<div>\n",
       "<style scoped>\n",
       "    .dataframe tbody tr th:only-of-type {\n",
       "        vertical-align: middle;\n",
       "    }\n",
       "\n",
       "    .dataframe tbody tr th {\n",
       "        vertical-align: top;\n",
       "    }\n",
       "\n",
       "    .dataframe thead th {\n",
       "        text-align: right;\n",
       "    }\n",
       "</style>\n",
       "<table border=\"1\" class=\"dataframe\">\n",
       "  <thead>\n",
       "    <tr style=\"text-align: right;\">\n",
       "      <th></th>\n",
       "      <th>Average Purchase Price</th>\n",
       "      <th>Purchase Count</th>\n",
       "      <th>Total Purchase Value</th>\n",
       "    </tr>\n",
       "    <tr>\n",
       "      <th>SN</th>\n",
       "      <th></th>\n",
       "      <th></th>\n",
       "      <th></th>\n",
       "    </tr>\n",
       "  </thead>\n",
       "  <tbody>\n",
       "    <tr>\n",
       "      <th>[Undirrala66]</th>\n",
       "      <td>3.41</td>\n",
       "      <td>5</td>\n",
       "      <td>17.06</td>\n",
       "    </tr>\n",
       "    <tr>\n",
       "      <th>[Saedue76]</th>\n",
       "      <td>3.39</td>\n",
       "      <td>4</td>\n",
       "      <td>13.56</td>\n",
       "    </tr>\n",
       "    <tr>\n",
       "      <th>[Mindimnya67]</th>\n",
       "      <td>3.18</td>\n",
       "      <td>4</td>\n",
       "      <td>12.74</td>\n",
       "    </tr>\n",
       "    <tr>\n",
       "      <th>[Haellysu29]</th>\n",
       "      <td>4.24</td>\n",
       "      <td>3</td>\n",
       "      <td>12.73</td>\n",
       "    </tr>\n",
       "    <tr>\n",
       "      <th>[Eoda93]</th>\n",
       "      <td>3.86</td>\n",
       "      <td>3</td>\n",
       "      <td>11.58</td>\n",
       "    </tr>\n",
       "  </tbody>\n",
       "</table>\n",
       "</div>"
      ],
      "text/plain": [
       "               Average Purchase Price  Purchase Count  Total Purchase Value\n",
       "SN                                                                         \n",
       "[Undirrala66]                    3.41               5                 17.06\n",
       "[Saedue76]                       3.39               4                 13.56\n",
       "[Mindimnya67]                    3.18               4                 12.74\n",
       "[Haellysu29]                     4.24               3                 12.73\n",
       "[Eoda93]                         3.86               3                 11.58"
      ]
     },
     "execution_count": 87,
     "metadata": {},
     "output_type": "execute_result"
    }
   ],
   "source": [
    "# Creating a dictionary of top spenders\n",
    "top_spenders_dict = {\"SN\": spenders_list,\n",
    "                     \"Purchase Count\": num_purchase_by_SN ,\n",
    "                     \"Average Purchase Price\":avg_purchase_by_SN ,\n",
    "                     \"Total Purchase Value\":total_purchase_by_SN}\n",
    "\n",
    "#Create a dataframe \n",
    "top_spenders_df = pd.DataFrame(top_spenders_dict)\n",
    "top_spenders_df = top_spenders_df.set_index(\"SN\")\n",
    "top_spenders_df = top_spenders_df.sort_values(\"Total Purchase Value\",ascending=False)\n",
    "\n",
    "#Displays the top 5 spenders by SN \n",
    "top_spenders_df.head()"
   ]
  },
  {
   "cell_type": "code",
   "execution_count": null,
   "metadata": {},
   "outputs": [],
   "source": []
  },
  {
   "cell_type": "code",
   "execution_count": null,
   "metadata": {},
   "outputs": [],
   "source": []
  }
 ],
 "metadata": {
  "kernelspec": {
   "display_name": "Python 3",
   "language": "python",
   "name": "python3"
  },
  "language_info": {
   "codemirror_mode": {
    "name": "ipython",
    "version": 3
   },
   "file_extension": ".py",
   "mimetype": "text/x-python",
   "name": "python",
   "nbconvert_exporter": "python",
   "pygments_lexer": "ipython3",
   "version": "3.6.4"
  }
 },
 "nbformat": 4,
 "nbformat_minor": 2
}
